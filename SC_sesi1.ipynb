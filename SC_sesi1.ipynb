{
  "nbformat": 4,
  "nbformat_minor": 0,
  "metadata": {
    "colab": {
      "provenance": [],
      "collapsed_sections": [
        "WfObyADMshhc"
      ],
      "toc_visible": true,
      "authorship_tag": "ABX9TyPS0hH2/10QEiqXR7DW9j0l",
      "include_colab_link": true
    },
    "kernelspec": {
      "name": "python3",
      "display_name": "Python 3"
    },
    "language_info": {
      "name": "python"
    }
  },
  "cells": [
    {
      "cell_type": "markdown",
      "metadata": {
        "id": "view-in-github",
        "colab_type": "text"
      },
      "source": [
        "<a href=\"https://colab.research.google.com/github/Hyphen-14/Scientific-Computing/blob/Session1/SC_sesi1.ipynb\" target=\"_parent\"><img src=\"https://colab.research.google.com/assets/colab-badge.svg\" alt=\"Open In Colab\"/></a>"
      ]
    },
    {
      "cell_type": "markdown",
      "source": [
        "Sesi 1 --> Modul ada di Section 2"
      ],
      "metadata": {
        "id": "LcC-L2K_jGdK"
      }
    },
    {
      "cell_type": "markdown",
      "source": [
        "# New Section"
      ],
      "metadata": {
        "id": "WfObyADMshhc"
      }
    },
    {
      "cell_type": "code",
      "source": [
        "print (\"Hello world\\n\")"
      ],
      "metadata": {
        "colab": {
          "base_uri": "https://localhost:8080/"
        },
        "id": "HUtuEnkojPRP",
        "outputId": "8be8c6ac-4a54-4721-d042-5dd69f378f95"
      },
      "execution_count": null,
      "outputs": [
        {
          "output_type": "stream",
          "name": "stdout",
          "text": [
            "Hello world\n",
            "\n"
          ]
        }
      ]
    },
    {
      "cell_type": "code",
      "source": [
        "import time\n",
        "print(time.ctime())"
      ],
      "metadata": {
        "colab": {
          "base_uri": "https://localhost:8080/"
        },
        "id": "gkvDr6evjkZ7",
        "outputId": "049bdd5f-eeb4-494e-90f2-c41785dabc4b"
      },
      "execution_count": null,
      "outputs": [
        {
          "output_type": "stream",
          "name": "stdout",
          "text": [
            "Thu Feb  6 04:41:40 2025\n"
          ]
        }
      ]
    },
    {
      "cell_type": "code",
      "source": [
        "z = \"Hello\"\n",
        "y = 20\n",
        "c = 30.7\n",
        "f = [\"Apple\", \"berry\"]\n",
        "\n",
        "z, y, c, f\n",
        "print(z, y, c, f)"
      ],
      "metadata": {
        "colab": {
          "base_uri": "https://localhost:8080/"
        },
        "id": "eeAeyHkpkHD3",
        "outputId": "932e005b-0a80-409f-8523-aa8d69d2023f"
      },
      "execution_count": null,
      "outputs": [
        {
          "output_type": "stream",
          "name": "stdout",
          "text": [
            "Hello 20 30.7 ['Apple', 'berry']\n"
          ]
        }
      ]
    },
    {
      "cell_type": "code",
      "source": [
        "o = int(1)\n",
        "y = int(2.8)\n",
        "z = int(\"3\")\n",
        "j = str(20)\n",
        "\n",
        "print (o, y, z, j)"
      ],
      "metadata": {
        "colab": {
          "base_uri": "https://localhost:8080/"
        },
        "id": "P0QRtx_2k4BS",
        "outputId": "2d8e0b5f-93c4-485e-cd79-61e9a4f6ffa8"
      },
      "execution_count": null,
      "outputs": [
        {
          "output_type": "stream",
          "name": "stdout",
          "text": [
            "1 2 3 20\n"
          ]
        }
      ]
    },
    {
      "cell_type": "code",
      "source": [
        "a = \"Hello\"\n",
        "b = \" World\"\n",
        "c = a+b\n",
        "print(c)"
      ],
      "metadata": {
        "colab": {
          "base_uri": "https://localhost:8080/"
        },
        "id": "Xsru2o9Hlqia",
        "outputId": "82ca89c2-51dd-4e9e-ef72-a7d63e5294e6"
      },
      "execution_count": null,
      "outputs": [
        {
          "output_type": "stream",
          "name": "stdout",
          "text": [
            "Hello World\n"
          ]
        }
      ]
    },
    {
      "cell_type": "code",
      "source": [
        "from re import A\n",
        "a = \"Hello World\"\n",
        "print(a[1])\n",
        "\n",
        "print(len(a))"
      ],
      "metadata": {
        "colab": {
          "base_uri": "https://localhost:8080/"
        },
        "id": "EpxX7l7ol9ci",
        "outputId": "264d8ad5-282f-4842-bf98-6fe3851185b3"
      },
      "execution_count": null,
      "outputs": [
        {
          "output_type": "stream",
          "name": "stdout",
          "text": [
            "e\n",
            "11\n"
          ]
        }
      ]
    },
    {
      "cell_type": "code",
      "source": [
        "b = \"Binus University\"\n",
        "print(b[2:5])\n",
        "\n",
        "c = \"Binus University\"\n",
        "print(c[:5])\n",
        "\n",
        "d = \"Binus University\"\n",
        "print(d[2:])\n",
        "\n"
      ],
      "metadata": {
        "colab": {
          "base_uri": "https://localhost:8080/"
        },
        "id": "KOtXIGuXmebW",
        "outputId": "6118d473-6b8f-47e2-f75b-cd053c2e61f6"
      },
      "execution_count": null,
      "outputs": [
        {
          "output_type": "stream",
          "name": "stdout",
          "text": [
            "nus\n",
            "Binus\n",
            "nus University\n"
          ]
        }
      ]
    },
    {
      "cell_type": "code",
      "source": [
        "a = \"Hello\"\n",
        "print(a.upper())\n",
        "print(a.lower())\n",
        "print(a.replace(\"H\", \"3\"))"
      ],
      "metadata": {
        "colab": {
          "base_uri": "https://localhost:8080/"
        },
        "id": "rayRDtmNnZpD",
        "outputId": "ad6db69b-6a5a-473a-d0d5-4aaa302948b8"
      },
      "execution_count": null,
      "outputs": [
        {
          "output_type": "stream",
          "name": "stdout",
          "text": [
            "HELLO\n",
            "hello\n",
            "3ello\n"
          ]
        }
      ]
    },
    {
      "cell_type": "code",
      "source": [
        "nama = \"Yasin\"\n",
        "x = 19\n",
        "string = \"Nama saya {} umur {}\"\n",
        "print (string.format(nama, x))"
      ],
      "metadata": {
        "colab": {
          "base_uri": "https://localhost:8080/"
        },
        "id": "-JRC6xqeoYzM",
        "outputId": "547a4773-6fa8-4828-a17a-fe0d6ab96bc8"
      },
      "execution_count": null,
      "outputs": [
        {
          "output_type": "stream",
          "name": "stdout",
          "text": [
            "Nama saya Yasin umur 19\n"
          ]
        }
      ]
    },
    {
      "cell_type": "code",
      "source": [
        "nama = \"Ahmad\"\n",
        "for i in enumerate(nama):\n",
        "  print(i)"
      ],
      "metadata": {
        "colab": {
          "base_uri": "https://localhost:8080/"
        },
        "id": "4wzEXJeho9Y7",
        "outputId": "b83ed1cf-cb9e-4cce-9138-57abb738acb9"
      },
      "execution_count": null,
      "outputs": [
        {
          "output_type": "stream",
          "name": "stdout",
          "text": [
            "(0, 'A')\n",
            "(1, 'h')\n",
            "(2, 'm')\n",
            "(3, 'a')\n",
            "(4, 'd')\n"
          ]
        }
      ]
    },
    {
      "cell_type": "code",
      "source": [
        "def perbandingan (a, b):\n",
        "  if a>b:\n",
        "    print(\"a lebih dari b\")\n",
        "  elif a<b:\n",
        "    print(\"a kurang dari b\")\n",
        "  else:\n",
        "    print(\"a = b\")"
      ],
      "metadata": {
        "id": "jqPqnaeDplHD"
      },
      "execution_count": null,
      "outputs": []
    },
    {
      "cell_type": "code",
      "source": [
        "perbandingan(3214, 3843)"
      ],
      "metadata": {
        "colab": {
          "base_uri": "https://localhost:8080/"
        },
        "id": "ek94Qbinp_Eb",
        "outputId": "c0222931-ec79-4fc4-e3a3-cef5c39ed3cd"
      },
      "execution_count": null,
      "outputs": [
        {
          "output_type": "stream",
          "name": "stdout",
          "text": [
            "a kurang dari b\n"
          ]
        }
      ]
    },
    {
      "cell_type": "code",
      "source": [
        "i=1\n",
        "while i<6:\n",
        "  print(i)\n",
        "  i += 1"
      ],
      "metadata": {
        "colab": {
          "base_uri": "https://localhost:8080/"
        },
        "id": "B7JyFKQSq__R",
        "outputId": "4232fe14-4036-4db6-aab6-c7e731bb030f"
      },
      "execution_count": null,
      "outputs": [
        {
          "output_type": "stream",
          "name": "stdout",
          "text": [
            "1\n",
            "2\n",
            "3\n",
            "4\n",
            "5\n"
          ]
        }
      ]
    },
    {
      "cell_type": "code",
      "source": [
        "i=1\n",
        "for i in range(0,6):\n",
        "  print(i)"
      ],
      "metadata": {
        "colab": {
          "base_uri": "https://localhost:8080/"
        },
        "id": "SocXXaf-rcxR",
        "outputId": "e406b558-bc66-423c-d874-a5ec261c8d20"
      },
      "execution_count": null,
      "outputs": [
        {
          "output_type": "stream",
          "name": "stdout",
          "text": [
            "0\n",
            "1\n",
            "2\n",
            "3\n",
            "4\n",
            "5\n"
          ]
        }
      ]
    },
    {
      "cell_type": "code",
      "source": [
        "\n",
        "for i in range (2, 41):\n",
        "  if i%2 == 0:\n",
        "    print(str(i) + \" genap\")\n",
        "  else:\n",
        "    print(str(i) + \" ganjil\")"
      ],
      "metadata": {
        "colab": {
          "base_uri": "https://localhost:8080/"
        },
        "id": "TJyWF7rPsZBp",
        "outputId": "71c57369-09ff-48c8-a5dc-806a89232de9"
      },
      "execution_count": null,
      "outputs": [
        {
          "output_type": "stream",
          "name": "stdout",
          "text": [
            "2 genap\n",
            "3 ganjil\n",
            "4 genap\n",
            "5 ganjil\n",
            "6 genap\n",
            "7 ganjil\n",
            "8 genap\n",
            "9 ganjil\n",
            "10 genap\n",
            "11 ganjil\n",
            "12 genap\n",
            "13 ganjil\n",
            "14 genap\n",
            "15 ganjil\n",
            "16 genap\n",
            "17 ganjil\n",
            "18 genap\n",
            "19 ganjil\n",
            "20 genap\n",
            "21 ganjil\n",
            "22 genap\n",
            "23 ganjil\n",
            "24 genap\n",
            "25 ganjil\n",
            "26 genap\n",
            "27 ganjil\n",
            "28 genap\n",
            "29 ganjil\n",
            "30 genap\n",
            "31 ganjil\n",
            "32 genap\n",
            "33 ganjil\n",
            "34 genap\n",
            "35 ganjil\n",
            "36 genap\n",
            "37 ganjil\n",
            "38 genap\n",
            "39 ganjil\n",
            "40 genap\n"
          ]
        }
      ]
    },
    {
      "cell_type": "code",
      "source": [
        "import numpy as np"
      ],
      "metadata": {
        "id": "1w7Kq4FZuqd6"
      },
      "execution_count": null,
      "outputs": []
    },
    {
      "cell_type": "markdown",
      "source": [
        "Membuat matrix menggunakan np"
      ],
      "metadata": {
        "id": "z0TLJxi6v6UD"
      }
    },
    {
      "cell_type": "code",
      "source": [
        "x = np.array([[1, 2, 3], [3, 6, 7]])\n",
        "x"
      ],
      "metadata": {
        "colab": {
          "base_uri": "https://localhost:8080/"
        },
        "id": "flZtdeo1vBdy",
        "outputId": "c58f1e77-dbc4-46ba-f851-05dd7eaa00c7"
      },
      "execution_count": null,
      "outputs": [
        {
          "output_type": "execute_result",
          "data": {
            "text/plain": [
              "array([[1, 2, 3],\n",
              "       [3, 6, 7]])"
            ]
          },
          "metadata": {},
          "execution_count": 33
        }
      ]
    },
    {
      "cell_type": "code",
      "source": [
        "y = np.array([[8, 2, 9], [3, 5, 7]])\n",
        "y"
      ],
      "metadata": {
        "colab": {
          "base_uri": "https://localhost:8080/"
        },
        "id": "No8zwnvnvWlD",
        "outputId": "f26dee1f-df52-46d6-bd2f-ef6544dfd4dc"
      },
      "execution_count": null,
      "outputs": [
        {
          "output_type": "execute_result",
          "data": {
            "text/plain": [
              "array([[8, 2, 9],\n",
              "       [3, 5, 7]])"
            ]
          },
          "metadata": {},
          "execution_count": 34
        }
      ]
    },
    {
      "cell_type": "markdown",
      "source": [
        "Penjumlahan Matrix"
      ],
      "metadata": {
        "id": "hFOl0F79v_li"
      }
    },
    {
      "cell_type": "code",
      "source": [
        "print(x+y)"
      ],
      "metadata": {
        "colab": {
          "base_uri": "https://localhost:8080/"
        },
        "id": "SH5r5rJAvyXS",
        "outputId": "82ad8f0f-24cc-4020-8f5d-35aed16a4ab3"
      },
      "execution_count": null,
      "outputs": [
        {
          "output_type": "stream",
          "name": "stdout",
          "text": [
            "[[ 9  4 12]\n",
            " [ 6 11 14]]\n"
          ]
        }
      ]
    },
    {
      "cell_type": "code",
      "source": [
        "data = np.array ([10, 9, 8, 7, 5, 6,])\n",
        "\n",
        "print(\"Rata-rata:\", np.mean(data))\n",
        "print(\"Maksimum:\", np.max(data))\n",
        "print(\"Minimum:\", np.min(data))\n",
        "print(\"Standar Devisiasi:\", np.std(data))"
      ],
      "metadata": {
        "colab": {
          "base_uri": "https://localhost:8080/"
        },
        "id": "XhKIMb65wFly",
        "outputId": "8eceea0e-e8e4-4918-82fb-69fca5b265b5"
      },
      "execution_count": null,
      "outputs": [
        {
          "output_type": "stream",
          "name": "stdout",
          "text": [
            "Rata-rata: 7.5\n",
            "Maksimum: 10\n",
            "Minimum: 5\n",
            "Standar Devisiasi: 1.707825127659933\n"
          ]
        }
      ]
    },
    {
      "cell_type": "markdown",
      "source": [
        "# New Section"
      ],
      "metadata": {
        "id": "YOxAyHXNsUTg"
      }
    },
    {
      "cell_type": "markdown",
      "source": [
        "Modul Sesi 1"
      ],
      "metadata": {
        "id": "19lufbK6saFN"
      }
    },
    {
      "cell_type": "markdown",
      "source": [
        "Login"
      ],
      "metadata": {
        "id": "gvwTBFSEtVZF"
      }
    },
    {
      "cell_type": "code",
      "source": [
        "\n",
        "username = input(\"Masukkan username : \")\n",
        "\n",
        "password = input(\"Masukkan password : \")\n",
        "while password != \"Admin123\":\n",
        "  password = input(\"Password anda salah, coba lagi : \")\n",
        "print(\"Login Berhasil, Selamat datang \" + username)"
      ],
      "metadata": {
        "colab": {
          "base_uri": "https://localhost:8080/"
        },
        "id": "CnblEY9BsczM",
        "outputId": "9805162f-b354-4254-be42-1372b01df1d2"
      },
      "execution_count": 25,
      "outputs": [
        {
          "output_type": "stream",
          "name": "stdout",
          "text": [
            "Masukkan username : Yasin\n",
            "Masukkan password : Admin123\n",
            "Login Berhasil, Selamat datang Yasin\n"
          ]
        }
      ]
    },
    {
      "cell_type": "markdown",
      "source": [
        "Input data mahasiswa"
      ],
      "metadata": {
        "id": "FvBiMve088YT"
      }
    },
    {
      "cell_type": "code",
      "source": [
        "nama = input(\"Masukkan nama mahasiswa : \")\n",
        "\n",
        "while True:\n",
        "    uts = float(input(\"Masukkan nilai UTS : \"))\n",
        "    if 0 <= uts <= 100:\n",
        "        break  # Keluar dari loop jika input valid\n",
        "    print(\"Invalid input [0-100], coba lagi.\")\n",
        "\n",
        "\n",
        "while True:\n",
        "    uas = float(input(\"Masukkan nilai UAS : \"))\n",
        "    if 0 <= uas <= 100:\n",
        "        break\n",
        "    print(\"Invalid input [0-100], coba lagi.\")\n",
        "\n",
        "\n",
        "while True:\n",
        "    asg = float(input(\"Masukkan nilai Assignment : \"))\n",
        "    if 0 <= asg <= 100:\n",
        "        break\n",
        "    print(\"Invalid input [0-100], coba lagi.\")\n"
      ],
      "metadata": {
        "colab": {
          "base_uri": "https://localhost:8080/"
        },
        "id": "hwtslp3r9AuI",
        "outputId": "e843baff-82f8-4c3b-ab1e-604c34421934"
      },
      "execution_count": 33,
      "outputs": [
        {
          "name": "stdout",
          "output_type": "stream",
          "text": [
            "Masukkan nama mahasiswa : Umar\n",
            "Masukkan nilai UTS : 78\n",
            "Masukkan nilai UAS : 86\n",
            "Masukkan nilai Assignment : 90\n"
          ]
        }
      ]
    },
    {
      "cell_type": "markdown",
      "source": [
        "Final Score function"
      ],
      "metadata": {
        "id": "WyzTYl52IBKX"
      }
    },
    {
      "cell_type": "code",
      "source": [
        "def calculate(uts, uas, asg):\n",
        "  return (uas * 0.5) + (uts * 0.3) + (asg * 0.2)\n",
        "\n",
        "score = calculate(uts, uas, asg)\n",
        "print(score)"
      ],
      "metadata": {
        "colab": {
          "base_uri": "https://localhost:8080/"
        },
        "id": "7hoOvpJOII-I",
        "outputId": "4358b793-21b6-494b-bfb5-8dc189182210"
      },
      "execution_count": 41,
      "outputs": [
        {
          "output_type": "stream",
          "name": "stdout",
          "text": [
            "84.4\n"
          ]
        }
      ]
    },
    {
      "cell_type": "markdown",
      "source": [
        "Grading Function"
      ],
      "metadata": {
        "id": "_gOiRFvGJEAK"
      }
    },
    {
      "cell_type": "code",
      "source": [
        "def grading(score):\n",
        "  if 100 >= score >= 90:\n",
        "    return \"Grade A\"\n",
        "  elif 89.99 >= score >= 85:\n",
        "    return \"Grade A-\"\n",
        "  elif 84.99 >= score >= 80:\n",
        "    return \"Grade B+\"\n",
        "  elif 79.99 >= score >= 75:\n",
        "    return \"Grade B\"\n",
        "  elif 74.99 >= score >= 70:\n",
        "    return \"Grade B-\"\n",
        "  elif 69.99 >= score >= 65:\n",
        "    return \"Grade C+\"\n",
        "  elif 64.99 >= score >= 60:\n",
        "    return \"Grade C\"\n",
        "  elif 59.99 >= score >= 11:\n",
        "    return \"Grade C-\"\n",
        "  else :\n",
        "    return \"Grade F\"\n",
        "\n"
      ],
      "metadata": {
        "id": "M1R68MvCJG6p"
      },
      "execution_count": 47,
      "outputs": []
    },
    {
      "cell_type": "markdown",
      "source": [
        "Print Hasil perolehan nilai"
      ],
      "metadata": {
        "id": "KloZ2IrlLpsT"
      }
    },
    {
      "cell_type": "code",
      "source": [
        "print(\"=============================\")\n",
        "print(\"Hasil perolehan nilai \" + nama)\n",
        "print(\"Final Score: \" + str(calculate(uts, uas, asg)))\n",
        "print(grading(score))"
      ],
      "metadata": {
        "colab": {
          "base_uri": "https://localhost:8080/"
        },
        "id": "O4gkOYcFMHQF",
        "outputId": "b53e9700-00dc-4401-a54c-ca645ca7eb34"
      },
      "execution_count": 49,
      "outputs": [
        {
          "output_type": "stream",
          "name": "stdout",
          "text": [
            "=============================\n",
            "Hasil perolehan nilai Umar\n",
            "Final Score: 84.4\n",
            "Grade B+\n"
          ]
        }
      ]
    }
  ]
}